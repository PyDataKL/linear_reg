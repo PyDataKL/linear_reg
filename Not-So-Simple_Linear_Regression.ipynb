{
 "cells": [
  {
   "cell_type": "code",
   "execution_count": 45,
   "metadata": {},
   "outputs": [],
   "source": [
    "%matplotlib inline\n",
    "import numpy as np\n",
    "import pandas as pd\n",
    "import scipy.stats as stats\n",
    "import matplotlib.pyplot as plt\n",
    "from sklearn import datasets\n",
    "from sklearn.linear_model import LinearRegression, Lasso, lasso_path, lars_path\n",
    "from sklearn.metrics import mean_squared_error, r2_score\n",
    "from sklearn.model_selection import train_test_split, GridSearchCV\n",
    "import statsmodels.api as sm\n",
    "from statsmodels.sandbox.regression.predstd import wls_prediction_std"
   ]
  },
  {
   "cell_type": "markdown",
   "metadata": {},
   "source": [
    "## Florida Election Data (Simple Linear Regression)"
   ]
  },
  {
   "cell_type": "code",
   "execution_count": 4,
   "metadata": {},
   "outputs": [
    {
     "data": {
      "text/html": [
       "<div>\n",
       "<style scoped>\n",
       "    .dataframe tbody tr th:only-of-type {\n",
       "        vertical-align: middle;\n",
       "    }\n",
       "\n",
       "    .dataframe tbody tr th {\n",
       "        vertical-align: top;\n",
       "    }\n",
       "\n",
       "    .dataframe thead th {\n",
       "        text-align: right;\n",
       "    }\n",
       "</style>\n",
       "<table border=\"1\" class=\"dataframe\">\n",
       "  <thead>\n",
       "    <tr style=\"text-align: right;\">\n",
       "      <th></th>\n",
       "      <th>0</th>\n",
       "      <th>1</th>\n",
       "      <th>2</th>\n",
       "      <th>3</th>\n",
       "      <th>4</th>\n",
       "      <th>5</th>\n",
       "      <th>6</th>\n",
       "      <th>7</th>\n",
       "      <th>8</th>\n",
       "      <th>9</th>\n",
       "      <th>...</th>\n",
       "      <th>12</th>\n",
       "      <th>13</th>\n",
       "      <th>14</th>\n",
       "      <th>15</th>\n",
       "      <th>16</th>\n",
       "      <th>17</th>\n",
       "      <th>18</th>\n",
       "      <th>19</th>\n",
       "      <th>20</th>\n",
       "      <th>21</th>\n",
       "    </tr>\n",
       "  </thead>\n",
       "  <tbody>\n",
       "    <tr>\n",
       "      <th>0</th>\n",
       "      <td>1</td>\n",
       "      <td>47300</td>\n",
       "      <td>34062</td>\n",
       "      <td>262</td>\n",
       "      <td>3215</td>\n",
       "      <td>658</td>\n",
       "      <td>42</td>\n",
       "      <td>4</td>\n",
       "      <td>658</td>\n",
       "      <td>21</td>\n",
       "      <td>...</td>\n",
       "      <td>54.846</td>\n",
       "      <td>39.496</td>\n",
       "      <td>0.304</td>\n",
       "      <td>3.728</td>\n",
       "      <td>0.763</td>\n",
       "      <td>0.049</td>\n",
       "      <td>0.005</td>\n",
       "      <td>0.763</td>\n",
       "      <td>0.024</td>\n",
       "      <td>0.023</td>\n",
       "    </tr>\n",
       "    <tr>\n",
       "      <th>1</th>\n",
       "      <td>2</td>\n",
       "      <td>2392</td>\n",
       "      <td>5610</td>\n",
       "      <td>73</td>\n",
       "      <td>53</td>\n",
       "      <td>17</td>\n",
       "      <td>3</td>\n",
       "      <td>0</td>\n",
       "      <td>0</td>\n",
       "      <td>3</td>\n",
       "      <td>...</td>\n",
       "      <td>29.335</td>\n",
       "      <td>68.801</td>\n",
       "      <td>0.895</td>\n",
       "      <td>0.650</td>\n",
       "      <td>0.208</td>\n",
       "      <td>0.037</td>\n",
       "      <td>0.000</td>\n",
       "      <td>0.000</td>\n",
       "      <td>0.037</td>\n",
       "      <td>0.037</td>\n",
       "    </tr>\n",
       "    <tr>\n",
       "      <th>2</th>\n",
       "      <td>3</td>\n",
       "      <td>18850</td>\n",
       "      <td>38637</td>\n",
       "      <td>248</td>\n",
       "      <td>828</td>\n",
       "      <td>171</td>\n",
       "      <td>18</td>\n",
       "      <td>5</td>\n",
       "      <td>3</td>\n",
       "      <td>37</td>\n",
       "      <td>...</td>\n",
       "      <td>32.050</td>\n",
       "      <td>65.692</td>\n",
       "      <td>0.422</td>\n",
       "      <td>1.408</td>\n",
       "      <td>0.291</td>\n",
       "      <td>0.031</td>\n",
       "      <td>0.009</td>\n",
       "      <td>0.005</td>\n",
       "      <td>0.063</td>\n",
       "      <td>0.031</td>\n",
       "    </tr>\n",
       "    <tr>\n",
       "      <th>3</th>\n",
       "      <td>4</td>\n",
       "      <td>3072</td>\n",
       "      <td>5413</td>\n",
       "      <td>65</td>\n",
       "      <td>84</td>\n",
       "      <td>28</td>\n",
       "      <td>2</td>\n",
       "      <td>0</td>\n",
       "      <td>0</td>\n",
       "      <td>3</td>\n",
       "      <td>...</td>\n",
       "      <td>35.437</td>\n",
       "      <td>62.441</td>\n",
       "      <td>0.750</td>\n",
       "      <td>0.969</td>\n",
       "      <td>0.323</td>\n",
       "      <td>0.023</td>\n",
       "      <td>0.000</td>\n",
       "      <td>0.000</td>\n",
       "      <td>0.035</td>\n",
       "      <td>0.023</td>\n",
       "    </tr>\n",
       "    <tr>\n",
       "      <th>4</th>\n",
       "      <td>5</td>\n",
       "      <td>97318</td>\n",
       "      <td>115185</td>\n",
       "      <td>570</td>\n",
       "      <td>4470</td>\n",
       "      <td>643</td>\n",
       "      <td>39</td>\n",
       "      <td>11</td>\n",
       "      <td>11</td>\n",
       "      <td>76</td>\n",
       "      <td>...</td>\n",
       "      <td>44.561</td>\n",
       "      <td>52.742</td>\n",
       "      <td>0.261</td>\n",
       "      <td>2.047</td>\n",
       "      <td>0.294</td>\n",
       "      <td>0.018</td>\n",
       "      <td>0.005</td>\n",
       "      <td>0.005</td>\n",
       "      <td>0.035</td>\n",
       "      <td>0.033</td>\n",
       "    </tr>\n",
       "    <tr>\n",
       "      <th>...</th>\n",
       "      <td>...</td>\n",
       "      <td>...</td>\n",
       "      <td>...</td>\n",
       "      <td>...</td>\n",
       "      <td>...</td>\n",
       "      <td>...</td>\n",
       "      <td>...</td>\n",
       "      <td>...</td>\n",
       "      <td>...</td>\n",
       "      <td>...</td>\n",
       "      <td>...</td>\n",
       "      <td>...</td>\n",
       "      <td>...</td>\n",
       "      <td>...</td>\n",
       "      <td>...</td>\n",
       "      <td>...</td>\n",
       "      <td>...</td>\n",
       "      <td>...</td>\n",
       "      <td>...</td>\n",
       "      <td>...</td>\n",
       "      <td>...</td>\n",
       "    </tr>\n",
       "    <tr>\n",
       "      <th>62</th>\n",
       "      <td>63</td>\n",
       "      <td>1399</td>\n",
       "      <td>2326</td>\n",
       "      <td>26</td>\n",
       "      <td>29</td>\n",
       "      <td>13</td>\n",
       "      <td>0</td>\n",
       "      <td>1</td>\n",
       "      <td>0</td>\n",
       "      <td>0</td>\n",
       "      <td>...</td>\n",
       "      <td>36.874</td>\n",
       "      <td>61.307</td>\n",
       "      <td>0.685</td>\n",
       "      <td>0.764</td>\n",
       "      <td>0.343</td>\n",
       "      <td>0.000</td>\n",
       "      <td>0.026</td>\n",
       "      <td>0.000</td>\n",
       "      <td>0.000</td>\n",
       "      <td>0.000</td>\n",
       "    </tr>\n",
       "    <tr>\n",
       "      <th>63</th>\n",
       "      <td>64</td>\n",
       "      <td>97063</td>\n",
       "      <td>82214</td>\n",
       "      <td>396</td>\n",
       "      <td>2436</td>\n",
       "      <td>3211</td>\n",
       "      <td>33</td>\n",
       "      <td>9888</td>\n",
       "      <td>3</td>\n",
       "      <td>59</td>\n",
       "      <td>...</td>\n",
       "      <td>48.965</td>\n",
       "      <td>41.474</td>\n",
       "      <td>0.200</td>\n",
       "      <td>1.229</td>\n",
       "      <td>1.620</td>\n",
       "      <td>0.017</td>\n",
       "      <td>4.988</td>\n",
       "      <td>0.002</td>\n",
       "      <td>0.030</td>\n",
       "      <td>1.477</td>\n",
       "    </tr>\n",
       "    <tr>\n",
       "      <th>64</th>\n",
       "      <td>65</td>\n",
       "      <td>3835</td>\n",
       "      <td>4511</td>\n",
       "      <td>46</td>\n",
       "      <td>149</td>\n",
       "      <td>30</td>\n",
       "      <td>3</td>\n",
       "      <td>2</td>\n",
       "      <td>1</td>\n",
       "      <td>6</td>\n",
       "      <td>...</td>\n",
       "      <td>44.681</td>\n",
       "      <td>52.557</td>\n",
       "      <td>0.536</td>\n",
       "      <td>1.736</td>\n",
       "      <td>0.350</td>\n",
       "      <td>0.035</td>\n",
       "      <td>0.023</td>\n",
       "      <td>0.012</td>\n",
       "      <td>0.070</td>\n",
       "      <td>0.000</td>\n",
       "    </tr>\n",
       "    <tr>\n",
       "      <th>65</th>\n",
       "      <td>66</td>\n",
       "      <td>5637</td>\n",
       "      <td>12176</td>\n",
       "      <td>120</td>\n",
       "      <td>265</td>\n",
       "      <td>68</td>\n",
       "      <td>11</td>\n",
       "      <td>3</td>\n",
       "      <td>2</td>\n",
       "      <td>18</td>\n",
       "      <td>...</td>\n",
       "      <td>30.792</td>\n",
       "      <td>66.510</td>\n",
       "      <td>0.655</td>\n",
       "      <td>1.448</td>\n",
       "      <td>0.371</td>\n",
       "      <td>0.060</td>\n",
       "      <td>0.016</td>\n",
       "      <td>0.011</td>\n",
       "      <td>0.098</td>\n",
       "      <td>0.038</td>\n",
       "    </tr>\n",
       "    <tr>\n",
       "      <th>66</th>\n",
       "      <td>67</td>\n",
       "      <td>2796</td>\n",
       "      <td>4983</td>\n",
       "      <td>88</td>\n",
       "      <td>93</td>\n",
       "      <td>32</td>\n",
       "      <td>20</td>\n",
       "      <td>0</td>\n",
       "      <td>0</td>\n",
       "      <td>5</td>\n",
       "      <td>...</td>\n",
       "      <td>34.837</td>\n",
       "      <td>62.086</td>\n",
       "      <td>1.096</td>\n",
       "      <td>1.159</td>\n",
       "      <td>0.399</td>\n",
       "      <td>0.249</td>\n",
       "      <td>0.000</td>\n",
       "      <td>0.000</td>\n",
       "      <td>0.062</td>\n",
       "      <td>0.112</td>\n",
       "    </tr>\n",
       "  </tbody>\n",
       "</table>\n",
       "<p>67 rows × 22 columns</p>\n",
       "</div>"
      ],
      "text/plain": [
       "    0      1       2    3     4     5   6     7    8   9   ...      12  \\\n",
       "0    1  47300   34062  262  3215   658  42     4  658  21  ...  54.846   \n",
       "1    2   2392    5610   73    53    17   3     0    0   3  ...  29.335   \n",
       "2    3  18850   38637  248   828   171  18     5    3  37  ...  32.050   \n",
       "3    4   3072    5413   65    84    28   2     0    0   3  ...  35.437   \n",
       "4    5  97318  115185  570  4470   643  39    11   11  76  ...  44.561   \n",
       "..  ..    ...     ...  ...   ...   ...  ..   ...  ...  ..  ...     ...   \n",
       "62  63   1399    2326   26    29    13   0     1    0   0  ...  36.874   \n",
       "63  64  97063   82214  396  2436  3211  33  9888    3  59  ...  48.965   \n",
       "64  65   3835    4511   46   149    30   3     2    1   6  ...  44.681   \n",
       "65  66   5637   12176  120   265    68  11     3    2  18  ...  30.792   \n",
       "66  67   2796    4983   88    93    32  20     0    0   5  ...  34.837   \n",
       "\n",
       "        13     14     15     16     17     18     19     20     21  \n",
       "0   39.496  0.304  3.728  0.763  0.049  0.005  0.763  0.024  0.023  \n",
       "1   68.801  0.895  0.650  0.208  0.037  0.000  0.000  0.037  0.037  \n",
       "2   65.692  0.422  1.408  0.291  0.031  0.009  0.005  0.063  0.031  \n",
       "3   62.441  0.750  0.969  0.323  0.023  0.000  0.000  0.035  0.023  \n",
       "4   52.742  0.261  2.047  0.294  0.018  0.005  0.005  0.035  0.033  \n",
       "..     ...    ...    ...    ...    ...    ...    ...    ...    ...  \n",
       "62  61.307  0.685  0.764  0.343  0.000  0.026  0.000  0.000  0.000  \n",
       "63  41.474  0.200  1.229  1.620  0.017  4.988  0.002  0.030  1.477  \n",
       "64  52.557  0.536  1.736  0.350  0.035  0.023  0.012  0.070  0.000  \n",
       "65  66.510  0.655  1.448  0.371  0.060  0.016  0.011  0.098  0.038  \n",
       "66  62.086  1.096  1.159  0.399  0.249  0.000  0.000  0.062  0.112  \n",
       "\n",
       "[67 rows x 22 columns]"
      ]
     },
     "execution_count": 4,
     "metadata": {},
     "output_type": "execute_result"
    }
   ],
   "source": [
    "election_data = pd.read_table(\"florida-election-data.txt\", sep=\"\\s+\", header=None)\n",
    "election_data"
   ]
  },
  {
   "cell_type": "code",
   "execution_count": 5,
   "metadata": {},
   "outputs": [
    {
     "data": {
      "text/plain": [
       "<matplotlib.collections.PathCollection at 0x22abb783358>"
      ]
     },
     "execution_count": 5,
     "metadata": {},
     "output_type": "execute_result"
    },
    {
     "data": {
      "text/plain": [
       "49"
      ]
     },
     "execution_count": 5,
     "metadata": {},
     "output_type": "execute_result"
    },
    {
     "data": {
      "image/png": "[encoded data removed]",
      "text/plain": [
       "<Figure size 432x288 with 1 Axes>"
      ]
     },
     "metadata": {},
     "output_type": "display_data"
    }
   ],
   "source": [
    "bush = election_data[2]\n",
    "buchanan = election_data[3]\n",
    "plt.scatter(bush, buchanan, color='red', linewidth=1)\n",
    "buchanan.idxmax()"
   ]
  },
  {
   "cell_type": "code",
   "execution_count": 6,
   "metadata": {},
   "outputs": [],
   "source": [
    "X = np.array(bush).reshape(-1, 1)\n",
    "y = np.array(buchanan).reshape(-1, 1)\n",
    "linreg1 = LinearRegression().fit(X, y)"
   ]
  },
  {
   "cell_type": "code",
   "execution_count": 7,
   "metadata": {},
   "outputs": [
    {
     "name": "stdout",
     "output_type": "stream",
     "text": [
      "R-squared value: 0.3889261484072598\n",
      "Intercept value: 0.004916828108322989\n",
      "Coefficient value: 45.2898612706191\n"
     ]
    }
   ],
   "source": [
    "print('R-squared value:', linreg1.score(X,y))\n",
    "print('Intercept value:', linreg1.coef_[0][0])\n",
    "print('Coefficient value:', linreg1.intercept_[0])"
   ]
  },
  {
   "cell_type": "code",
   "execution_count": 8,
   "metadata": {},
   "outputs": [
    {
     "data": {
      "image/png": "[encoded data removed]",
      "text/plain": [
       "<Figure size 432x288 with 1 Axes>"
      ]
     },
     "metadata": {},
     "output_type": "display_data"
    }
   ],
   "source": [
    "plt.scatter(bush, buchanan)\n",
    "plt.plot(bush, linreg1.intercept_[0]+linreg1.coef_[0][0]*bush, color='red', linewidth=1)\n",
    "plt.legend(['Fitted line', 'Real values'])\n",
    "plt.xlabel('Bush')\n",
    "plt.ylabel('Buchanan')\n",
    "plt.title('Regression Plot 1')\n",
    "plt.show();"
   ]
  },
  {
   "cell_type": "code",
   "execution_count": 9,
   "metadata": {},
   "outputs": [
    {
     "data": {
      "image/png": "[encoded data removed]",
      "text/plain": [
       "<Figure size 432x288 with 1 Axes>"
      ]
     },
     "metadata": {},
     "output_type": "display_data"
    }
   ],
   "source": [
    "difference = linreg1.intercept_[0]+linreg1.coef_[0][0]*bush - buchanan \n",
    "plt.scatter(bush, difference)\n",
    "plt.axhline(linestyle='--', linewidth=1, color='r') \n",
    "plt.ylim(-500, 500)\n",
    "plt.xlabel('Bush')\n",
    "plt.ylabel('Residuals')\n",
    "plt.title('Residual Plot 1');"
   ]
  },
  {
   "cell_type": "markdown",
   "metadata": {},
   "source": [
    "### What if we modify the Y and X values?"
   ]
  },
  {
   "cell_type": "code",
   "execution_count": 12,
   "metadata": {},
   "outputs": [
    {
     "name": "stdout",
     "output_type": "stream",
     "text": [
      "R-squared value: 0.8507857311672755\n",
      "Intercept value: 0.7577224152020474\n",
      "Coefficient value: -2.5771235519464426\n"
     ]
    }
   ],
   "source": [
    "linreg2 = LinearRegression().fit(np.log(X), np.log(y))\n",
    "print('R-squared value:', linreg2.score(np.log(X),np.log(y)))\n",
    "print('Intercept value:', linreg2.coef_[0][0])\n",
    "print('Coefficient value:', linreg2.intercept_[0])"
   ]
  },
  {
   "cell_type": "code",
   "execution_count": 13,
   "metadata": {},
   "outputs": [
    {
     "data": {
      "image/png": "[encoded data removed]",
      "text/plain": [
       "<Figure size 432x288 with 1 Axes>"
      ]
     },
     "metadata": {},
     "output_type": "display_data"
    }
   ],
   "source": [
    "plt.scatter(np.log(bush), np.log(buchanan))\n",
    "plt.plot(np.log(bush), linreg2.intercept_[0]+linreg2.coef_[0][0]*np.log(bush), color='red')\n",
    "plt.legend(['Fitted line', 'Real values'])\n",
    "plt.xlabel('Bush')\n",
    "plt.ylabel('Buchanan')\n",
    "plt.title('Regression Plot 2')\n",
    "plt.show();"
   ]
  },
  {
   "cell_type": "code",
   "execution_count": 14,
   "metadata": {},
   "outputs": [
    {
     "data": {
      "image/png": "[encoded data removed]",
      "text/plain": [
       "<Figure size 432x288 with 1 Axes>"
      ]
     },
     "metadata": {},
     "output_type": "display_data"
    }
   ],
   "source": [
    "difference = linreg2.intercept_[0]+linreg2.coef_[0][0]*np.log(bush) - np.log(buchanan) \n",
    "plt.scatter(np.log(bush), difference)\n",
    "plt.axhline(linestyle='--', linewidth=1, color='r') \n",
    "plt.ylim(-1, 1)\n",
    "plt.xlabel('Bush')\n",
    "plt.ylabel('Residuals')\n",
    "plt.title('Residual Plot 2');"
   ]
  },
  {
   "cell_type": "markdown",
   "metadata": {},
   "source": [
    "### Regression using Statsmodels"
   ]
  },
  {
   "cell_type": "code",
   "execution_count": 21,
   "metadata": {
    "scrolled": false
   },
   "outputs": [
    {
     "data": {
      "text/html": [
       "<table class=\"simpletable\">\n",
       "<caption>OLS Regression Results</caption>\n",
       "<tr>\n",
       "  <th>Dep. Variable:</th>            <td>3</td>        <th>  R-squared:         </th> <td>   0.851</td>\n",
       "</tr>\n",
       "<tr>\n",
       "  <th>Model:</th>                   <td>OLS</td>       <th>  Adj. R-squared:    </th> <td>   0.848</td>\n",
       "</tr>\n",
       "<tr>\n",
       "  <th>Method:</th>             <td>Least Squares</td>  <th>  F-statistic:       </th> <td>   370.6</td>\n",
       "</tr>\n",
       "<tr>\n",
       "  <th>Date:</th>             <td>Fri, 24 Jul 2020</td> <th>  Prob (F-statistic):</th> <td>1.50e-28</td>\n",
       "</tr>\n",
       "<tr>\n",
       "  <th>Time:</th>                 <td>16:25:38</td>     <th>  Log-Likelihood:    </th> <td> -43.078</td>\n",
       "</tr>\n",
       "<tr>\n",
       "  <th>No. Observations:</th>      <td>    67</td>      <th>  AIC:               </th> <td>   90.16</td>\n",
       "</tr>\n",
       "<tr>\n",
       "  <th>Df Residuals:</th>          <td>    65</td>      <th>  BIC:               </th> <td>   94.57</td>\n",
       "</tr>\n",
       "<tr>\n",
       "  <th>Df Model:</th>              <td>     1</td>      <th>                     </th>     <td> </td>   \n",
       "</tr>\n",
       "<tr>\n",
       "  <th>Covariance Type:</th>      <td>nonrobust</td>    <th>                     </th>     <td> </td>   \n",
       "</tr>\n",
       "</table>\n",
       "<table class=\"simpletable\">\n",
       "<tr>\n",
       "    <td></td>       <th>coef</th>     <th>std err</th>      <th>t</th>      <th>P>|t|</th>  <th>[0.025</th>    <th>0.975]</th>  \n",
       "</tr>\n",
       "<tr>\n",
       "  <th>const</th> <td>   -2.5771</td> <td>    0.389</td> <td>   -6.622</td> <td> 0.000</td> <td>   -3.354</td> <td>   -1.800</td>\n",
       "</tr>\n",
       "<tr>\n",
       "  <th>x1</th>    <td>    0.7577</td> <td>    0.039</td> <td>   19.251</td> <td> 0.000</td> <td>    0.679</td> <td>    0.836</td>\n",
       "</tr>\n",
       "</table>\n",
       "<table class=\"simpletable\">\n",
       "<tr>\n",
       "  <th>Omnibus:</th>       <td> 7.531</td> <th>  Durbin-Watson:     </th> <td>   1.931</td>\n",
       "</tr>\n",
       "<tr>\n",
       "  <th>Prob(Omnibus):</th> <td> 0.023</td> <th>  Jarque-Bera (JB):  </th> <td>   9.036</td>\n",
       "</tr>\n",
       "<tr>\n",
       "  <th>Skew:</th>          <td> 0.454</td> <th>  Prob(JB):          </th> <td>  0.0109</td>\n",
       "</tr>\n",
       "<tr>\n",
       "  <th>Kurtosis:</th>      <td> 4.554</td> <th>  Cond. No.          </th> <td>    68.1</td>\n",
       "</tr>\n",
       "</table><br/><br/>Warnings:<br/>[1] Standard Errors assume that the covariance matrix of the errors is correctly specified."
      ],
      "text/plain": [
       "<class 'statsmodels.iolib.summary.Summary'>\n",
       "\"\"\"\n",
       "                            OLS Regression Results                            \n",
       "==============================================================================\n",
       "Dep. Variable:                      3   R-squared:                       0.851\n",
       "Model:                            OLS   Adj. R-squared:                  0.848\n",
       "Method:                 Least Squares   F-statistic:                     370.6\n",
       "Date:                Fri, 24 Jul 2020   Prob (F-statistic):           1.50e-28\n",
       "Time:                        16:25:38   Log-Likelihood:                -43.078\n",
       "No. Observations:                  67   AIC:                             90.16\n",
       "Df Residuals:                      65   BIC:                             94.57\n",
       "Df Model:                           1                                         \n",
       "Covariance Type:            nonrobust                                         \n",
       "==============================================================================\n",
       "                 coef    std err          t      P>|t|      [0.025      0.975]\n",
       "------------------------------------------------------------------------------\n",
       "const         -2.5771      0.389     -6.622      0.000      -3.354      -1.800\n",
       "x1             0.7577      0.039     19.251      0.000       0.679       0.836\n",
       "==============================================================================\n",
       "Omnibus:                        7.531   Durbin-Watson:                   1.931\n",
       "Prob(Omnibus):                  0.023   Jarque-Bera (JB):                9.036\n",
       "Skew:                           0.454   Prob(JB):                       0.0109\n",
       "Kurtosis:                       4.554   Cond. No.                         68.1\n",
       "==============================================================================\n",
       "\n",
       "Warnings:\n",
       "[1] Standard Errors assume that the covariance matrix of the errors is correctly specified.\n",
       "\"\"\""
      ]
     },
     "execution_count": 21,
     "metadata": {},
     "output_type": "execute_result"
    },
    {
     "name": "stdout",
     "output_type": "stream",
     "text": [
      "Sum of squared residuals: 14.192807721886519\n"
     ]
    }
   ],
   "source": [
    "X1 = np.log(election_data[2])\n",
    "y1 = np.log(election_data[3])\n",
    "X1 = sm.add_constant(X1.to_numpy())\n",
    "\n",
    "model = sm.OLS(y1, X1).fit()\n",
    "predictions = model.predict(X1)\n",
    "\n",
    "# Print out the statistics\n",
    "model.summary()\n",
    "print('Sum of squared residuals:', model.ssr)\n",
    "prstd, iv_l, iv_u = wls_prediction_std(model)"
   ]
  },
  {
   "cell_type": "code",
   "execution_count": 22,
   "metadata": {},
   "outputs": [
    {
     "data": {
      "image/png": "[encoded data removed]",
      "text/plain": [
       "<Figure size 432x288 with 1 Axes>"
      ]
     },
     "metadata": {},
     "output_type": "display_data"
    }
   ],
   "source": [
    "plt.scatter(np.log(bush), np.log(buchanan))\n",
    "plt.plot(np.log(bush), model.params['const']+model.params['x1']*np.log(bush), color='red')\n",
    "plt.legend(['Fitted line', 'Real values'])\n",
    "plt.xlabel('Bush')\n",
    "plt.ylabel('Buchanan')\n",
    "plt.title('Regression Plot (using Statsmodels)')\n",
    "plt.show();"
   ]
  },
  {
   "cell_type": "markdown",
   "metadata": {},
   "source": [
    "### Generating prediction intervals"
   ]
  },
  {
   "cell_type": "code",
   "execution_count": 23,
   "metadata": {},
   "outputs": [
    {
     "data": {
      "image/png": "[encoded data removed]",
      "text/plain": [
       "<Figure size 432x288 with 1 Axes>"
      ]
     },
     "metadata": {},
     "output_type": "display_data"
    }
   ],
   "source": [
    "from statsmodels.stats.outliers_influence import summary_table\n",
    "\n",
    "st, data, ss2 = summary_table(model, alpha=0.05)\n",
    "\n",
    "fittedvalues = data[:, 2]\n",
    "predict_mean_se  = data[:, 3]\n",
    "predict_mean_ci_low, predict_mean_ci_upp = data[:, 4:6].T\n",
    "predict_ci_low, predict_ci_upp = data[:, 6:8].T\n",
    "\n",
    "# plt.figure(figsize=(20,15))\n",
    "plt.plot(np.log(bush), np.log(buchanan), 'o')\n",
    "plt.plot(np.log(bush), fittedvalues, 'r-', lw=1)\n",
    "plt.plot(np.log(bush), predict_ci_low, 'y--', lw=1)\n",
    "plt.plot(np.log(bush), predict_ci_upp, 'y--', lw=1)\n",
    "plt.legend(['Real values', 'Fitted line', 'Prediction interval'])\n",
    "plt.xlabel('Bush')\n",
    "plt.ylabel('Buchanan')\n",
    "plt.title('Regression Plot with Prediction Interval')\n",
    "plt.show();"
   ]
  },
  {
   "cell_type": "markdown",
   "metadata": {},
   "source": [
    "## LASSO Regression"
   ]
  },
  {
   "cell_type": "code",
   "execution_count": 24,
   "metadata": {},
   "outputs": [],
   "source": [
    "import pandas as pd\n",
    "url = \"http://www.stat.cmu.edu/~larry/all-of-statistics/=data/carmileage.dat\"\n",
    "header = [\"MAKE-MODEL\",\"VOL\",\"HP\",\"MPG\",\"SP\",\"WT\"]\n",
    "data = pd.read_csv(url,delim_whitespace=True,skiprows=29,names=header)\n",
    "data = data.drop(28)"
   ]
  },
  {
   "cell_type": "code",
   "execution_count": 26,
   "metadata": {},
   "outputs": [
    {
     "name": "stderr",
     "output_type": "stream",
     "text": [
      "C:\\Users\\Ryann\\Anaconda3\\lib\\site-packages\\numpy\\core\\fromnumeric.py:2495: FutureWarning: Method .ptp is deprecated and will be removed in a future version. Use numpy.ptp instead.\n",
      "  return ptp(axis=axis, out=out, **kwargs)\n"
     ]
    },
    {
     "data": {
      "text/html": [
       "<table class=\"simpletable\">\n",
       "<caption>OLS Regression Results</caption>\n",
       "<tr>\n",
       "  <th>Dep. Variable:</th>           <td>MPG</td>       <th>  R-squared:         </th> <td>   0.883</td>\n",
       "</tr>\n",
       "<tr>\n",
       "  <th>Model:</th>                   <td>OLS</td>       <th>  Adj. R-squared:    </th> <td>   0.877</td>\n",
       "</tr>\n",
       "<tr>\n",
       "  <th>Method:</th>             <td>Least Squares</td>  <th>  F-statistic:       </th> <td>   143.8</td>\n",
       "</tr>\n",
       "<tr>\n",
       "  <th>Date:</th>             <td>Fri, 24 Jul 2020</td> <th>  Prob (F-statistic):</th> <td>1.21e-34</td>\n",
       "</tr>\n",
       "<tr>\n",
       "  <th>Time:</th>                 <td>16:25:47</td>     <th>  Log-Likelihood:    </th> <td> -214.38</td>\n",
       "</tr>\n",
       "<tr>\n",
       "  <th>No. Observations:</th>      <td>    81</td>      <th>  AIC:               </th> <td>   438.8</td>\n",
       "</tr>\n",
       "<tr>\n",
       "  <th>Df Residuals:</th>          <td>    76</td>      <th>  BIC:               </th> <td>   450.7</td>\n",
       "</tr>\n",
       "<tr>\n",
       "  <th>Df Model:</th>              <td>     4</td>      <th>                     </th>     <td> </td>   \n",
       "</tr>\n",
       "<tr>\n",
       "  <th>Covariance Type:</th>      <td>nonrobust</td>    <th>                     </th>     <td> </td>   \n",
       "</tr>\n",
       "</table>\n",
       "<table class=\"simpletable\">\n",
       "<tr>\n",
       "    <td></td>       <th>coef</th>     <th>std err</th>      <th>t</th>      <th>P>|t|</th>  <th>[0.025</th>    <th>0.975]</th>  \n",
       "</tr>\n",
       "<tr>\n",
       "  <th>const</th> <td>  188.7035</td> <td>   22.747</td> <td>    8.296</td> <td> 0.000</td> <td>  143.399</td> <td>  234.008</td>\n",
       "</tr>\n",
       "<tr>\n",
       "  <th>x1</th>    <td>   -0.0121</td> <td>    0.022</td> <td>   -0.549</td> <td> 0.585</td> <td>   -0.056</td> <td>    0.032</td>\n",
       "</tr>\n",
       "<tr>\n",
       "  <th>x2</th>    <td>    0.3806</td> <td>    0.079</td> <td>    4.838</td> <td> 0.000</td> <td>    0.224</td> <td>    0.537</td>\n",
       "</tr>\n",
       "<tr>\n",
       "  <th>x3</th>    <td>   -1.2528</td> <td>    0.237</td> <td>   -5.293</td> <td> 0.000</td> <td>   -1.724</td> <td>   -0.781</td>\n",
       "</tr>\n",
       "<tr>\n",
       "  <th>x4</th>    <td>   -1.8553</td> <td>    0.206</td> <td>   -9.013</td> <td> 0.000</td> <td>   -2.265</td> <td>   -1.445</td>\n",
       "</tr>\n",
       "</table>\n",
       "<table class=\"simpletable\">\n",
       "<tr>\n",
       "  <th>Omnibus:</th>       <td>19.278</td> <th>  Durbin-Watson:     </th> <td>   0.992</td>\n",
       "</tr>\n",
       "<tr>\n",
       "  <th>Prob(Omnibus):</th> <td> 0.000</td> <th>  Jarque-Bera (JB):  </th> <td>  26.644</td>\n",
       "</tr>\n",
       "<tr>\n",
       "  <th>Skew:</th>          <td> 1.038</td> <th>  Prob(JB):          </th> <td>1.64e-06</td>\n",
       "</tr>\n",
       "<tr>\n",
       "  <th>Kurtosis:</th>      <td> 4.894</td> <th>  Cond. No.          </th> <td>1.15e+04</td>\n",
       "</tr>\n",
       "</table><br/><br/>Warnings:<br/>[1] Standard Errors assume that the covariance matrix of the errors is correctly specified.<br/>[2] The condition number is large, 1.15e+04. This might indicate that there are<br/>strong multicollinearity or other numerical problems."
      ],
      "text/plain": [
       "<class 'statsmodels.iolib.summary.Summary'>\n",
       "\"\"\"\n",
       "                            OLS Regression Results                            \n",
       "==============================================================================\n",
       "Dep. Variable:                    MPG   R-squared:                       0.883\n",
       "Model:                            OLS   Adj. R-squared:                  0.877\n",
       "Method:                 Least Squares   F-statistic:                     143.8\n",
       "Date:                Fri, 24 Jul 2020   Prob (F-statistic):           1.21e-34\n",
       "Time:                        16:25:47   Log-Likelihood:                -214.38\n",
       "No. Observations:                  81   AIC:                             438.8\n",
       "Df Residuals:                      76   BIC:                             450.7\n",
       "Df Model:                           4                                         \n",
       "Covariance Type:            nonrobust                                         \n",
       "==============================================================================\n",
       "                 coef    std err          t      P>|t|      [0.025      0.975]\n",
       "------------------------------------------------------------------------------\n",
       "const        188.7035     22.747      8.296      0.000     143.399     234.008\n",
       "x1            -0.0121      0.022     -0.549      0.585      -0.056       0.032\n",
       "x2             0.3806      0.079      4.838      0.000       0.224       0.537\n",
       "x3            -1.2528      0.237     -5.293      0.000      -1.724      -0.781\n",
       "x4            -1.8553      0.206     -9.013      0.000      -2.265      -1.445\n",
       "==============================================================================\n",
       "Omnibus:                       19.278   Durbin-Watson:                   0.992\n",
       "Prob(Omnibus):                  0.000   Jarque-Bera (JB):               26.644\n",
       "Skew:                           1.038   Prob(JB):                     1.64e-06\n",
       "Kurtosis:                       4.894   Cond. No.                     1.15e+04\n",
       "==============================================================================\n",
       "\n",
       "Warnings:\n",
       "[1] Standard Errors assume that the covariance matrix of the errors is correctly specified.\n",
       "[2] The condition number is large, 1.15e+04. This might indicate that there are\n",
       "strong multicollinearity or other numerical problems.\n",
       "\"\"\""
      ]
     },
     "execution_count": 26,
     "metadata": {},
     "output_type": "execute_result"
    },
    {
     "name": "stdout",
     "output_type": "stream",
     "text": [
      "Sum of squared residuals: 943.7553469314141\n"
     ]
    }
   ],
   "source": [
    "X2 = data[['VOL', 'HP', 'SP', 'WT']]\n",
    "y2 = data['MPG']\n",
    "X2_numpy = sm.add_constant(X2)\n",
    "X2_numpy = X2_numpy.to_numpy()\n",
    "\n",
    "model = sm.OLS(y2.astype(float), X2_numpy.astype(float)).fit()\n",
    "predictions = model.predict(X2_numpy.astype(float))\n",
    "\n",
    "# Print out the statistics\n",
    "model.summary()\n",
    "print('Sum of squared residuals:', model.ssr)"
   ]
  },
  {
   "cell_type": "code",
   "execution_count": 27,
   "metadata": {},
   "outputs": [
    {
     "data": {
      "text/plain": [
       "GridSearchCV(cv=5, error_score=nan,\n",
       "             estimator=Lasso(alpha=1.0, copy_X=True, fit_intercept=True,\n",
       "                             max_iter=1000000, normalize=False, positive=False,\n",
       "                             precompute=False, random_state=None,\n",
       "                             selection='cyclic', tol=0.08, warm_start=False),\n",
       "             iid='deprecated', n_jobs=None,\n",
       "             param_grid={'alpha': [1e-15, 1e-10, 1e-08, 0.0001, 0.001, 0.01, 1,\n",
       "                                   5, 10]},\n",
       "             pre_dispatch='2*n_jobs', refit=True, return_train_score=False,\n",
       "             scoring='neg_mean_squared_error', verbose=0)"
      ]
     },
     "execution_count": 27,
     "metadata": {},
     "output_type": "execute_result"
    }
   ],
   "source": [
    "lasso = Lasso(max_iter=1000000, tol=0.08)\n",
    "parameters = {'alpha':[1e-15, 1e-10, 1e-8, 1e-4, 1e-3, 1e-2, 1, 5, 10]}\n",
    "\n",
    "lasso_regressor = GridSearchCV(lasso, parameters, scoring='neg_mean_squared_error', cv=5)\n",
    "lasso_regressor.fit(X2, y2)"
   ]
  },
  {
   "cell_type": "code",
   "execution_count": 28,
   "metadata": {},
   "outputs": [
    {
     "data": {
      "text/plain": [
       "{'alpha': 1}"
      ]
     },
     "execution_count": 28,
     "metadata": {},
     "output_type": "execute_result"
    }
   ],
   "source": [
    "lasso_regressor.best_params_"
   ]
  },
  {
   "cell_type": "code",
   "execution_count": 29,
   "metadata": {},
   "outputs": [
    {
     "data": {
      "text/plain": [
       "-42.232622661081514"
      ]
     },
     "execution_count": 29,
     "metadata": {},
     "output_type": "execute_result"
    }
   ],
   "source": [
    "lasso_regressor.best_score_"
   ]
  },
  {
   "cell_type": "code",
   "execution_count": 30,
   "metadata": {},
   "outputs": [
    {
     "data": {
      "text/plain": [
       "Lasso(alpha=1, copy_X=True, fit_intercept=True, max_iter=50000, normalize=False,\n",
       "      positive=False, precompute=False, random_state=None, selection='cyclic',\n",
       "      tol=0.0001, warm_start=False)"
      ]
     },
     "execution_count": 30,
     "metadata": {},
     "output_type": "execute_result"
    },
    {
     "name": "stdout",
     "output_type": "stream",
     "text": [
      "R-squared value: 0.8670654257596335\n",
      "Intercept value: 116.13585007863993\n",
      "Coefficient values: [-0.02905952  0.12577686 -0.50091381 -1.22225921]\n"
     ]
    }
   ],
   "source": [
    "lasso = Lasso(alpha=1, max_iter=50000)\n",
    "lasso.fit(X2, y2)\n",
    "\n",
    "print('R-squared value:', lasso.score(X2, y2))\n",
    "print('Intercept value:', lasso.intercept_)\n",
    "print('Coefficient values:', lasso.coef_)"
   ]
  },
  {
   "cell_type": "code",
   "execution_count": 31,
   "metadata": {},
   "outputs": [
    {
     "data": {
      "text/plain": [
       "Lasso(alpha=10, copy_X=True, fit_intercept=True, max_iter=50000,\n",
       "      normalize=False, positive=False, precompute=False, random_state=None,\n",
       "      selection='cyclic', tol=0.0001, warm_start=False)"
      ]
     },
     "execution_count": 31,
     "metadata": {},
     "output_type": "execute_result"
    },
    {
     "name": "stdout",
     "output_type": "stream",
     "text": [
      "R-squared value: 0.7941496109929709\n",
      "Intercept value: 63.26024475323884\n",
      "Coefficient values: [-0.07740445 -0.0925769   0.         -0.35194223]\n"
     ]
    }
   ],
   "source": [
    "lasso2 = Lasso(alpha=10, max_iter=50000)\n",
    "lasso2.fit(X2, y2)\n",
    "\n",
    "print('R-squared value:', lasso2.score(X2, y2))\n",
    "print('Intercept value:', lasso2.intercept_)\n",
    "print('Coefficient values:', lasso2.coef_)"
   ]
  },
  {
   "cell_type": "code",
   "execution_count": 38,
   "metadata": {},
   "outputs": [],
   "source": [
    "from itertools import cycle"
   ]
  },
  {
   "cell_type": "code",
   "execution_count": 65,
   "metadata": {
    "scrolled": false
   },
   "outputs": [
    {
     "name": "stdout",
     "output_type": "stream",
     "text": [
      "Computing regularization path using lasso...\n"
     ]
    },
    {
     "data": {
      "image/png": "[encoded data removed]",
      "text/plain": [
       "<Figure size 432x288 with 1 Axes>"
      ]
     },
     "metadata": {},
     "output_type": "display_data"
    }
   ],
   "source": [
    "print(\"Computing regularization path using lasso...\")\n",
    "alphas_lasso, coefs_lasso, _ = lasso_path(X2, y2, eps=0.0001, fit_intercept=False, n_alphas=1000)\n",
    "\n",
    "plt.figure(1)\n",
    "colors = cycle(['b', 'r', 'g', 'c', 'k'])\n",
    "neg_log_alphas_lasso = -np.log10(alphas_lasso)\n",
    "for coef_l in coefs_lasso:\n",
    "    l1 = plt.plot(neg_log_alphas_lasso, coef_l)\n",
    "\n",
    "plt.xlabel('-Log(alpha)')\n",
    "plt.ylabel('coefficients')\n",
    "plt.title('Lasso Paths')\n",
    "plt.legend(['x1', 'x2', 'x3', 'x4'], loc='upper left')\n",
    "plt.axis('tight')\n",
    "\n",
    "plt.show();"
   ]
  },
  {
   "cell_type": "markdown",
   "metadata": {},
   "source": [
    "## Some cool links/books"
   ]
  },
  {
   "cell_type": "markdown",
   "metadata": {},
   "source": [
    "### Links\n",
    "\n",
    "For a visually interesting introduction to key concepts in probability and statistics, check out: https://seeing-theory.brown.edu/index.html\n",
    " \n",
    "For more ML specific ideas about prediction intervals, check out:\n",
    "https://stanfordmlgroup.github.io/projects/ngboost/\n",
    "\n",
    "More notes about linear regression and its extensions: https://jakevdp.github.io/PythonDataScienceHandbook/05.06-linear-regression.html\n",
    "\n",
    "Logistic regression example: https://towardsdatascience.com/building-a-logistic-regression-in-python-step-by-step-becd4d56c9c8#:~:text=Logistic%20Regression%20is%20a%20Machine,of%20a%20categorical%20dependent%20variable.\n",
    "\n",
    "Cool post about LIME (local interpretable model-agnostic explanations): https://www.oreilly.com/content/introduction-to-local-interpretable-model-agnostic-explanations-lime/\n",
    "\n",
    "### Books\n",
    "\n",
    "The Truth about Linear Regression by Cosma Rohilla Shalizi\n",
    "\n",
    "All of Statistics by Larry Wasserman\n",
    "\n",
    "The Elements of Statistical Learning by Trevor Hastie, Robert Tibshirani & Jerome Friedman\n",
    "\n",
    "Interpretable Machine Learning (https://christophm.github.io/interpretable-ml-book/) by Christoph Molnar"
   ]
  }
 ],
 "metadata": {
  "kernelspec": {
   "display_name": "Python 3",
   "language": "python",
   "name": "python3"
  },
  "language_info": {
   "codemirror_mode": {
    "name": "ipython",
    "version": 3
   },
   "file_extension": ".py",
   "mimetype": "text/x-python",
   "name": "python",
   "nbconvert_exporter": "python",
   "pygments_lexer": "ipython3",
   "version": "3.6.5"
  }
 },
 "nbformat": 4,
 "nbformat_minor": 2
}
